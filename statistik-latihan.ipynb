{
 "cells": [
  {
   "cell_type": "markdown",
   "id": "7e5650ac",
   "metadata": {},
   "source": [
    "Misalkan kamu adalah data scientist di gojek. Kamu ingin mengetahui apakah kemacetan mempengaruhi tingkat kepuasan pelanngan.\n",
    "\n",
    "Kamu diminta unutk membandingkna nilai \"bintang\" dari customer setalah dia order\n",
    "\n",
    "macet = [2, 3, 5, 4, 4, 2, 2, 2] tidak macet = [ 4 , 3, 5, 4 , 4, 5,5]"
   ]
  },
  {
   "cell_type": "code",
   "execution_count": 15,
   "id": "b8c71aba",
   "metadata": {},
   "outputs": [],
   "source": [
    "import matplotlib.pyplot as plt\n",
    "import pandas as pd\n",
    "import seaborn as sns\n",
    "import numpy as np\n",
    "from scipy import stats"
   ]
  },
  {
   "cell_type": "code",
   "execution_count": 16,
   "id": "45463c37",
   "metadata": {},
   "outputs": [],
   "source": [
    "macet = [2, 3, 5, 4, 4, 2, 2, 2]"
   ]
  },
  {
   "cell_type": "code",
   "execution_count": 17,
   "id": "d8af2a96",
   "metadata": {},
   "outputs": [],
   "source": [
    "tidakmacet = [ 4 , 3, 5, 4 , 4, 5,5,5]"
   ]
  },
  {
   "cell_type": "markdown",
   "id": "dca17555",
   "metadata": {},
   "source": [
    "Uji Normalitas\n",
    "\n",
    "Ho = Data berdistribusi normal\n",
    "\n",
    "Ha = data tidak berdistribusi normal"
   ]
  },
  {
   "cell_type": "code",
   "execution_count": 18,
   "id": "42688a11",
   "metadata": {},
   "outputs": [
    {
     "name": "stderr",
     "output_type": "stream",
     "text": [
      "/Users/mymac/opt/anaconda3/lib/python3.8/site-packages/seaborn/distributions.py:2557: FutureWarning: `distplot` is a deprecated function and will be removed in a future version. Please adapt your code to use either `displot` (a figure-level function with similar flexibility) or `histplot` (an axes-level function for histograms).\n",
      "  warnings.warn(msg, FutureWarning)\n"
     ]
    },
    {
     "data": {
      "text/plain": [
       "<AxesSubplot:ylabel='Density'>"
      ]
     },
     "execution_count": 18,
     "metadata": {},
     "output_type": "execute_result"
    },
    {
     "data": {
      "image/png": "[encoded data removed]",
      "text/plain": [
       "<Figure size 432x288 with 1 Axes>"
      ]
     },
     "metadata": {
      "needs_background": "light"
     },
     "output_type": "display_data"
    }
   ],
   "source": [
    "sns.distplot(macet)"
   ]
  },
  {
   "cell_type": "code",
   "execution_count": 19,
   "id": "cfb9b149",
   "metadata": {},
   "outputs": [
    {
     "name": "stderr",
     "output_type": "stream",
     "text": [
      "/Users/mymac/opt/anaconda3/lib/python3.8/site-packages/seaborn/distributions.py:2557: FutureWarning: `distplot` is a deprecated function and will be removed in a future version. Please adapt your code to use either `displot` (a figure-level function with similar flexibility) or `histplot` (an axes-level function for histograms).\n",
      "  warnings.warn(msg, FutureWarning)\n"
     ]
    },
    {
     "data": {
      "text/plain": [
       "<AxesSubplot:ylabel='Density'>"
      ]
     },
     "execution_count": 19,
     "metadata": {},
     "output_type": "execute_result"
    },
    {
     "data": {
      "image/png": "[encoded data removed]",
      "text/plain": [
       "<Figure size 432x288 with 1 Axes>"
      ]
     },
     "metadata": {
      "needs_background": "light"
     },
     "output_type": "display_data"
    }
   ],
   "source": [
    "sns.distplot(tidakmacet)"
   ]
  },
  {
   "cell_type": "code",
   "execution_count": 20,
   "id": "371692ed",
   "metadata": {},
   "outputs": [],
   "source": [
    "#UJI KOLMOGORV-SMIRNOV -> MENENTUKAN APAKAH DATA INI BERDISTRIBUSI NORMAL ATAU TIDAK\n",
    "\n",
    "z_score_macet = stats.zscore(macet)\n",
    "z_score_tidakmacet = stats.zscore(tidakmacet)"
   ]
  },
  {
   "cell_type": "code",
   "execution_count": 21,
   "id": "335f0017",
   "metadata": {},
   "outputs": [
    {
     "name": "stdout",
     "output_type": "stream",
     "text": [
      "Stats of data macet  KstestResult(statistic=0.3144533152386512, pvalue=0.3346106710695924)\n",
      "Stats of data tidakmacet  KstestResult(statistic=0.3154142918336542, pvalue=0.3311083178190486)\n"
     ]
    }
   ],
   "source": [
    "print(\"Stats of data macet \", stats.kstest(z_score_macet, \"norm\"))\n",
    "print(\"Stats of data tidakmacet \", stats.kstest(z_score_tidakmacet, \"norm\"))"
   ]
  },
  {
   "cell_type": "markdown",
   "id": "c93584ea",
   "metadata": {},
   "source": [
    "Jika p-value > 0.05, maka Ho Diterima, data berdistribusi normal\n",
    "\n",
    "jika maka sebaliknya"
   ]
  },
  {
   "cell_type": "code",
   "execution_count": 22,
   "id": "49d0c014",
   "metadata": {},
   "outputs": [
    {
     "data": {
      "text/plain": [
       "8"
      ]
     },
     "execution_count": 22,
     "metadata": {},
     "output_type": "execute_result"
    }
   ],
   "source": [
    "len(tidakmacet)"
   ]
  },
  {
   "cell_type": "code",
   "execution_count": 23,
   "id": "1da51125",
   "metadata": {},
   "outputs": [
    {
     "name": "stdout",
     "output_type": "stream",
     "text": [
      "Hasil uji t :  Ttest_relResult(statistic=2.5824971129863203, pvalue=0.036339839119456076)\n"
     ]
    }
   ],
   "source": [
    "t_value = stats.ttest_rel(tidakmacet,macet)\n",
    "\n",
    "print('Hasil uji t : ', t_value)"
   ]
  },
  {
   "cell_type": "markdown",
   "id": "37a4762d",
   "metadata": {},
   "source": [
    "Uji Wilcoxon (non paramterik)\n",
    "Misalkan datatanya tidak berdistribusi normal, uji beda 2 kelompok berhubungan dapata dilakukan dengan uji wilcoxon"
   ]
  },
  {
   "cell_type": "code",
   "execution_count": 25,
   "id": "dc16a66c",
   "metadata": {},
   "outputs": [
    {
     "ename": "TypeError",
     "evalue": "unsupported operand type(s) for -: 'list' and 'list'",
     "output_type": "error",
     "traceback": [
      "\u001b[0;31m---------------------------------------------------------------------------\u001b[0m",
      "\u001b[0;31mTypeError\u001b[0m                                 Traceback (most recent call last)",
      "\u001b[0;32m<ipython-input-25-fcc5092ee8da>\u001b[0m in \u001b[0;36m<module>\u001b[0;34m\u001b[0m\n\u001b[0;32m----> 1\u001b[0;31m \u001b[0md\u001b[0m \u001b[0;34m=\u001b[0m \u001b[0mtidakmacet\u001b[0m \u001b[0;34m-\u001b[0m \u001b[0mmacet\u001b[0m\u001b[0;34m\u001b[0m\u001b[0;34m\u001b[0m\u001b[0m\n\u001b[0m\u001b[1;32m      2\u001b[0m \u001b[0mstats\u001b[0m\u001b[0;34m.\u001b[0m\u001b[0mwilcoxon\u001b[0m\u001b[0;34m(\u001b[0m\u001b[0md\u001b[0m\u001b[0;34m)\u001b[0m\u001b[0;34m\u001b[0m\u001b[0;34m\u001b[0m\u001b[0m\n",
      "\u001b[0;31mTypeError\u001b[0m: unsupported operand type(s) for -: 'list' and 'list'"
     ]
    }
   ],
   "source": [
    "d = tidakmacet - macet\n",
    "stats.wilcoxon(d)"
   ]
  },
  {
   "cell_type": "markdown",
   "id": "eea0b66d",
   "metadata": {},
   "source": [
    "Uji Beda lebih dari kelompok\n",
    "Dalam statistik paramterik (ANOVA), memiliki 2 asumsi:\n",
    "\n",
    "Data berdistribusi normla\n",
    "Varians data homogen"
   ]
  },
  {
   "cell_type": "markdown",
   "id": "a67ff573",
   "metadata": {},
   "source": [
    "Kasus\n",
    "\n",
    "Misalkan saat ini kamu adalah mentri pendidikan yang ingin mengetahui apakah kualitas pendidikan di negara sudah merata atau belum.\n",
    "\n",
    "Daerah dibagi menjadi\n",
    "\n",
    "kota besar di wilayah barat\n",
    "kota kecil di wilayah barat\n",
    "ibukota\n",
    "kota besar di wilayah timur\n",
    "kota kecil di wilayah timur"
   ]
  },
  {
   "cell_type": "code",
   "execution_count": 27,
   "id": "d12433fe",
   "metadata": {},
   "outputs": [
    {
     "data": {
      "text/html": [
       "<div>\n",
       "<style scoped>\n",
       "    .dataframe tbody tr th:only-of-type {\n",
       "        vertical-align: middle;\n",
       "    }\n",
       "\n",
       "    .dataframe tbody tr th {\n",
       "        vertical-align: top;\n",
       "    }\n",
       "\n",
       "    .dataframe thead th {\n",
       "        text-align: right;\n",
       "    }\n",
       "</style>\n",
       "<table border=\"1\" class=\"dataframe\">\n",
       "  <thead>\n",
       "    <tr style=\"text-align: right;\">\n",
       "      <th></th>\n",
       "      <th>big_west</th>\n",
       "      <th>small_west</th>\n",
       "      <th>capital_city</th>\n",
       "      <th>big_east</th>\n",
       "      <th>small_east</th>\n",
       "    </tr>\n",
       "  </thead>\n",
       "  <tbody>\n",
       "    <tr>\n",
       "      <th>0</th>\n",
       "      <td>87</td>\n",
       "      <td>77</td>\n",
       "      <td>86</td>\n",
       "      <td>71</td>\n",
       "      <td>70</td>\n",
       "    </tr>\n",
       "    <tr>\n",
       "      <th>1</th>\n",
       "      <td>75</td>\n",
       "      <td>83</td>\n",
       "      <td>90</td>\n",
       "      <td>82</td>\n",
       "      <td>76</td>\n",
       "    </tr>\n",
       "    <tr>\n",
       "      <th>2</th>\n",
       "      <td>80</td>\n",
       "      <td>73</td>\n",
       "      <td>87</td>\n",
       "      <td>85</td>\n",
       "      <td>81</td>\n",
       "    </tr>\n",
       "    <tr>\n",
       "      <th>3</th>\n",
       "      <td>75</td>\n",
       "      <td>82</td>\n",
       "      <td>85</td>\n",
       "      <td>89</td>\n",
       "      <td>85</td>\n",
       "    </tr>\n",
       "    <tr>\n",
       "      <th>4</th>\n",
       "      <td>91</td>\n",
       "      <td>71</td>\n",
       "      <td>85</td>\n",
       "      <td>72</td>\n",
       "      <td>75</td>\n",
       "    </tr>\n",
       "    <tr>\n",
       "      <th>5</th>\n",
       "      <td>89</td>\n",
       "      <td>87</td>\n",
       "      <td>96</td>\n",
       "      <td>79</td>\n",
       "      <td>75</td>\n",
       "    </tr>\n",
       "    <tr>\n",
       "      <th>6</th>\n",
       "      <td>91</td>\n",
       "      <td>77</td>\n",
       "      <td>95</td>\n",
       "      <td>79</td>\n",
       "      <td>75</td>\n",
       "    </tr>\n",
       "    <tr>\n",
       "      <th>7</th>\n",
       "      <td>87</td>\n",
       "      <td>84</td>\n",
       "      <td>89</td>\n",
       "      <td>85</td>\n",
       "      <td>72</td>\n",
       "    </tr>\n",
       "    <tr>\n",
       "      <th>8</th>\n",
       "      <td>90</td>\n",
       "      <td>86</td>\n",
       "      <td>93</td>\n",
       "      <td>84</td>\n",
       "      <td>72</td>\n",
       "    </tr>\n",
       "    <tr>\n",
       "      <th>9</th>\n",
       "      <td>94</td>\n",
       "      <td>93</td>\n",
       "      <td>91</td>\n",
       "      <td>86</td>\n",
       "      <td>75</td>\n",
       "    </tr>\n",
       "    <tr>\n",
       "      <th>10</th>\n",
       "      <td>82</td>\n",
       "      <td>83</td>\n",
       "      <td>96</td>\n",
       "      <td>85</td>\n",
       "      <td>90</td>\n",
       "    </tr>\n",
       "    <tr>\n",
       "      <th>11</th>\n",
       "      <td>91</td>\n",
       "      <td>94</td>\n",
       "      <td>94</td>\n",
       "      <td>76</td>\n",
       "      <td>83</td>\n",
       "    </tr>\n",
       "    <tr>\n",
       "      <th>12</th>\n",
       "      <td>83</td>\n",
       "      <td>79</td>\n",
       "      <td>91</td>\n",
       "      <td>71</td>\n",
       "      <td>80</td>\n",
       "    </tr>\n",
       "    <tr>\n",
       "      <th>13</th>\n",
       "      <td>86</td>\n",
       "      <td>92</td>\n",
       "      <td>85</td>\n",
       "      <td>82</td>\n",
       "      <td>85</td>\n",
       "    </tr>\n",
       "    <tr>\n",
       "      <th>14</th>\n",
       "      <td>84</td>\n",
       "      <td>72</td>\n",
       "      <td>77</td>\n",
       "      <td>72</td>\n",
       "      <td>80</td>\n",
       "    </tr>\n",
       "    <tr>\n",
       "      <th>15</th>\n",
       "      <td>82</td>\n",
       "      <td>86</td>\n",
       "      <td>96</td>\n",
       "      <td>78</td>\n",
       "      <td>80</td>\n",
       "    </tr>\n",
       "    <tr>\n",
       "      <th>16</th>\n",
       "      <td>88</td>\n",
       "      <td>76</td>\n",
       "      <td>84</td>\n",
       "      <td>78</td>\n",
       "      <td>78</td>\n",
       "    </tr>\n",
       "    <tr>\n",
       "      <th>17</th>\n",
       "      <td>89</td>\n",
       "      <td>84</td>\n",
       "      <td>87</td>\n",
       "      <td>76</td>\n",
       "      <td>86</td>\n",
       "    </tr>\n",
       "    <tr>\n",
       "      <th>18</th>\n",
       "      <td>94</td>\n",
       "      <td>85</td>\n",
       "      <td>91</td>\n",
       "      <td>74</td>\n",
       "      <td>83</td>\n",
       "    </tr>\n",
       "    <tr>\n",
       "      <th>19</th>\n",
       "      <td>87</td>\n",
       "      <td>93</td>\n",
       "      <td>83</td>\n",
       "      <td>77</td>\n",
       "      <td>77</td>\n",
       "    </tr>\n",
       "    <tr>\n",
       "      <th>20</th>\n",
       "      <td>89</td>\n",
       "      <td>87</td>\n",
       "      <td>90</td>\n",
       "      <td>74</td>\n",
       "      <td>76</td>\n",
       "    </tr>\n",
       "    <tr>\n",
       "      <th>21</th>\n",
       "      <td>88</td>\n",
       "      <td>89</td>\n",
       "      <td>81</td>\n",
       "      <td>70</td>\n",
       "      <td>75</td>\n",
       "    </tr>\n",
       "    <tr>\n",
       "      <th>22</th>\n",
       "      <td>75</td>\n",
       "      <td>89</td>\n",
       "      <td>79</td>\n",
       "      <td>80</td>\n",
       "      <td>81</td>\n",
       "    </tr>\n",
       "    <tr>\n",
       "      <th>23</th>\n",
       "      <td>85</td>\n",
       "      <td>77</td>\n",
       "      <td>95</td>\n",
       "      <td>89</td>\n",
       "      <td>74</td>\n",
       "    </tr>\n",
       "    <tr>\n",
       "      <th>24</th>\n",
       "      <td>81</td>\n",
       "      <td>92</td>\n",
       "      <td>93</td>\n",
       "      <td>80</td>\n",
       "      <td>84</td>\n",
       "    </tr>\n",
       "    <tr>\n",
       "      <th>25</th>\n",
       "      <td>78</td>\n",
       "      <td>73</td>\n",
       "      <td>95</td>\n",
       "      <td>89</td>\n",
       "      <td>75</td>\n",
       "    </tr>\n",
       "    <tr>\n",
       "      <th>26</th>\n",
       "      <td>93</td>\n",
       "      <td>86</td>\n",
       "      <td>90</td>\n",
       "      <td>77</td>\n",
       "      <td>75</td>\n",
       "    </tr>\n",
       "    <tr>\n",
       "      <th>27</th>\n",
       "      <td>88</td>\n",
       "      <td>87</td>\n",
       "      <td>91</td>\n",
       "      <td>88</td>\n",
       "      <td>80</td>\n",
       "    </tr>\n",
       "    <tr>\n",
       "      <th>28</th>\n",
       "      <td>84</td>\n",
       "      <td>93</td>\n",
       "      <td>78</td>\n",
       "      <td>75</td>\n",
       "      <td>80</td>\n",
       "    </tr>\n",
       "    <tr>\n",
       "      <th>29</th>\n",
       "      <td>90</td>\n",
       "      <td>95</td>\n",
       "      <td>91</td>\n",
       "      <td>78</td>\n",
       "      <td>75</td>\n",
       "    </tr>\n",
       "    <tr>\n",
       "      <th>30</th>\n",
       "      <td>91</td>\n",
       "      <td>90</td>\n",
       "      <td>88</td>\n",
       "      <td>82</td>\n",
       "      <td>70</td>\n",
       "    </tr>\n",
       "    <tr>\n",
       "      <th>31</th>\n",
       "      <td>88</td>\n",
       "      <td>84</td>\n",
       "      <td>80</td>\n",
       "      <td>72</td>\n",
       "      <td>80</td>\n",
       "    </tr>\n",
       "    <tr>\n",
       "      <th>32</th>\n",
       "      <td>82</td>\n",
       "      <td>82</td>\n",
       "      <td>95</td>\n",
       "      <td>77</td>\n",
       "      <td>90</td>\n",
       "    </tr>\n",
       "    <tr>\n",
       "      <th>33</th>\n",
       "      <td>94</td>\n",
       "      <td>82</td>\n",
       "      <td>94</td>\n",
       "      <td>81</td>\n",
       "      <td>86</td>\n",
       "    </tr>\n",
       "    <tr>\n",
       "      <th>34</th>\n",
       "      <td>83</td>\n",
       "      <td>93</td>\n",
       "      <td>90</td>\n",
       "      <td>75</td>\n",
       "      <td>70</td>\n",
       "    </tr>\n",
       "    <tr>\n",
       "      <th>35</th>\n",
       "      <td>91</td>\n",
       "      <td>72</td>\n",
       "      <td>78</td>\n",
       "      <td>78</td>\n",
       "      <td>85</td>\n",
       "    </tr>\n",
       "    <tr>\n",
       "      <th>36</th>\n",
       "      <td>76</td>\n",
       "      <td>85</td>\n",
       "      <td>89</td>\n",
       "      <td>75</td>\n",
       "      <td>80</td>\n",
       "    </tr>\n",
       "    <tr>\n",
       "      <th>37</th>\n",
       "      <td>80</td>\n",
       "      <td>90</td>\n",
       "      <td>90</td>\n",
       "      <td>87</td>\n",
       "      <td>72</td>\n",
       "    </tr>\n",
       "    <tr>\n",
       "      <th>38</th>\n",
       "      <td>76</td>\n",
       "      <td>81</td>\n",
       "      <td>90</td>\n",
       "      <td>76</td>\n",
       "      <td>90</td>\n",
       "    </tr>\n",
       "    <tr>\n",
       "      <th>39</th>\n",
       "      <td>90</td>\n",
       "      <td>90</td>\n",
       "      <td>95</td>\n",
       "      <td>81</td>\n",
       "      <td>90</td>\n",
       "    </tr>\n",
       "    <tr>\n",
       "      <th>40</th>\n",
       "      <td>88</td>\n",
       "      <td>78</td>\n",
       "      <td>81</td>\n",
       "      <td>89</td>\n",
       "      <td>63</td>\n",
       "    </tr>\n",
       "    <tr>\n",
       "      <th>41</th>\n",
       "      <td>84</td>\n",
       "      <td>83</td>\n",
       "      <td>90</td>\n",
       "      <td>82</td>\n",
       "      <td>82</td>\n",
       "    </tr>\n",
       "    <tr>\n",
       "      <th>42</th>\n",
       "      <td>70</td>\n",
       "      <td>70</td>\n",
       "      <td>70</td>\n",
       "      <td>70</td>\n",
       "      <td>70</td>\n",
       "    </tr>\n",
       "  </tbody>\n",
       "</table>\n",
       "</div>"
      ],
      "text/plain": [
       "    big_west  small_west  capital_city  big_east  small_east\n",
       "0         87          77            86        71          70\n",
       "1         75          83            90        82          76\n",
       "2         80          73            87        85          81\n",
       "3         75          82            85        89          85\n",
       "4         91          71            85        72          75\n",
       "5         89          87            96        79          75\n",
       "6         91          77            95        79          75\n",
       "7         87          84            89        85          72\n",
       "8         90          86            93        84          72\n",
       "9         94          93            91        86          75\n",
       "10        82          83            96        85          90\n",
       "11        91          94            94        76          83\n",
       "12        83          79            91        71          80\n",
       "13        86          92            85        82          85\n",
       "14        84          72            77        72          80\n",
       "15        82          86            96        78          80\n",
       "16        88          76            84        78          78\n",
       "17        89          84            87        76          86\n",
       "18        94          85            91        74          83\n",
       "19        87          93            83        77          77\n",
       "20        89          87            90        74          76\n",
       "21        88          89            81        70          75\n",
       "22        75          89            79        80          81\n",
       "23        85          77            95        89          74\n",
       "24        81          92            93        80          84\n",
       "25        78          73            95        89          75\n",
       "26        93          86            90        77          75\n",
       "27        88          87            91        88          80\n",
       "28        84          93            78        75          80\n",
       "29        90          95            91        78          75\n",
       "30        91          90            88        82          70\n",
       "31        88          84            80        72          80\n",
       "32        82          82            95        77          90\n",
       "33        94          82            94        81          86\n",
       "34        83          93            90        75          70\n",
       "35        91          72            78        78          85\n",
       "36        76          85            89        75          80\n",
       "37        80          90            90        87          72\n",
       "38        76          81            90        76          90\n",
       "39        90          90            95        81          90\n",
       "40        88          78            81        89          63\n",
       "41        84          83            90        82          82\n",
       "42        70          70            70        70          70"
      ]
     },
     "execution_count": 27,
     "metadata": {},
     "output_type": "execute_result"
    }
   ],
   "source": [
    "final_exam = pd.read_csv('final_exam.csv')\n",
    "final_exam"
   ]
  },
  {
   "cell_type": "code",
   "execution_count": 28,
   "id": "a69b80ee",
   "metadata": {},
   "outputs": [
    {
     "data": {
      "text/plain": [
       "<Figure size 1280x960 with 0 Axes>"
      ]
     },
     "metadata": {},
     "output_type": "display_data"
    },
    {
     "data": {
      "image/png": "[encoded data removed]",
      "text/plain": [
       "<Figure size 432x288 with 6 Axes>"
      ]
     },
     "metadata": {
      "needs_background": "light"
     },
     "output_type": "display_data"
    }
   ],
   "source": [
    "#membuat histogram\n",
    "from matplotlib.pyplot import figure\n",
    "\n",
    "figure(figsize=(16, 12), dpi=80)\n",
    "final_exam.hist()\n",
    "plt.show()"
   ]
  },
  {
   "cell_type": "code",
   "execution_count": 29,
   "id": "c547889a",
   "metadata": {},
   "outputs": [
    {
     "name": "stdout",
     "output_type": "stream",
     "text": [
      "stat  big_west  =  KstestResult(statistic=0.1463623852887705, pvalue=0.28678269325815053)\n",
      "stat  small_west  =  KstestResult(statistic=0.09305748870693209, pvalue=0.8171989638137918)\n",
      "stat  capital_city  =  KstestResult(statistic=0.1723544820281414, pvalue=0.1379003575286657)\n",
      "stat  small_east  =  KstestResult(statistic=0.11522951440351409, pvalue=0.5778423663395744)\n",
      "stat  big_east  =  KstestResult(statistic=0.09709346617838455, pvalue=0.7763472906058266)\n"
     ]
    }
   ],
   "source": [
    "area = ['big_west', 'small_west', 'capital_city', 'small_east', 'big_east']\n",
    "\n",
    "for a in area:\n",
    "  z_score = stats.zscore(final_exam[a])\n",
    "  stat = stats.kstest(z_score, \"norm\")\n",
    "  print('stat ', a, ' = ', stat)"
   ]
  },
  {
   "cell_type": "code",
   "execution_count": 30,
   "id": "6560ff9b",
   "metadata": {},
   "outputs": [
    {
     "data": {
      "text/plain": [
       "LeveneResult(statistic=0.5104303607286809, pvalue=0.728125042716542)"
      ]
     },
     "execution_count": 30,
     "metadata": {},
     "output_type": "execute_result"
    }
   ],
   "source": [
    "stats.levene(final_exam['big_west'], final_exam['small_west'], final_exam['capital_city'], final_exam['big_east'], final_exam['small_east'])"
   ]
  },
  {
   "cell_type": "markdown",
   "id": "d753b46f",
   "metadata": {},
   "source": [
    "Uji ANOVA\n",
    "Ho = Kualias pendidiakn merata\n",
    "\n",
    "ha = kualitas pendidikan tidak merata"
   ]
  },
  {
   "cell_type": "code",
   "execution_count": 31,
   "id": "349d5f9b",
   "metadata": {},
   "outputs": [
    {
     "data": {
      "text/plain": [
       "F_onewayResult(statistic=18.48895253915249, pvalue=4.945434101915241e-13)"
      ]
     },
     "execution_count": 31,
     "metadata": {},
     "output_type": "execute_result"
    }
   ],
   "source": [
    "stats.f_oneway(final_exam['big_west'], final_exam['small_west'], final_exam['capital_city'], final_exam['big_east'], final_exam['small_east'])"
   ]
  },
  {
   "cell_type": "code",
   "execution_count": 32,
   "id": "4f23669f",
   "metadata": {},
   "outputs": [
    {
     "data": {
      "text/html": [
       "<div>\n",
       "<style scoped>\n",
       "    .dataframe tbody tr th:only-of-type {\n",
       "        vertical-align: middle;\n",
       "    }\n",
       "\n",
       "    .dataframe tbody tr th {\n",
       "        vertical-align: top;\n",
       "    }\n",
       "\n",
       "    .dataframe thead th {\n",
       "        text-align: right;\n",
       "    }\n",
       "</style>\n",
       "<table border=\"1\" class=\"dataframe\">\n",
       "  <thead>\n",
       "    <tr style=\"text-align: right;\">\n",
       "      <th></th>\n",
       "      <th>big_west</th>\n",
       "      <th>small_west</th>\n",
       "      <th>capital_city</th>\n",
       "      <th>big_east</th>\n",
       "      <th>small_east</th>\n",
       "    </tr>\n",
       "  </thead>\n",
       "  <tbody>\n",
       "    <tr>\n",
       "      <th>count</th>\n",
       "      <td>43.000000</td>\n",
       "      <td>43.000000</td>\n",
       "      <td>43.000000</td>\n",
       "      <td>43.000000</td>\n",
       "      <td>43.000000</td>\n",
       "    </tr>\n",
       "    <tr>\n",
       "      <th>mean</th>\n",
       "      <td>85.325581</td>\n",
       "      <td>83.837209</td>\n",
       "      <td>88.232558</td>\n",
       "      <td>79.209302</td>\n",
       "      <td>78.627907</td>\n",
       "    </tr>\n",
       "    <tr>\n",
       "      <th>std</th>\n",
       "      <td>5.982995</td>\n",
       "      <td>7.006562</td>\n",
       "      <td>6.159921</td>\n",
       "      <td>5.667611</td>\n",
       "      <td>6.302015</td>\n",
       "    </tr>\n",
       "    <tr>\n",
       "      <th>min</th>\n",
       "      <td>70.000000</td>\n",
       "      <td>70.000000</td>\n",
       "      <td>70.000000</td>\n",
       "      <td>70.000000</td>\n",
       "      <td>63.000000</td>\n",
       "    </tr>\n",
       "    <tr>\n",
       "      <th>25%</th>\n",
       "      <td>82.000000</td>\n",
       "      <td>78.500000</td>\n",
       "      <td>85.000000</td>\n",
       "      <td>75.000000</td>\n",
       "      <td>75.000000</td>\n",
       "    </tr>\n",
       "    <tr>\n",
       "      <th>50%</th>\n",
       "      <td>87.000000</td>\n",
       "      <td>84.000000</td>\n",
       "      <td>90.000000</td>\n",
       "      <td>78.000000</td>\n",
       "      <td>80.000000</td>\n",
       "    </tr>\n",
       "    <tr>\n",
       "      <th>75%</th>\n",
       "      <td>90.000000</td>\n",
       "      <td>89.500000</td>\n",
       "      <td>93.000000</td>\n",
       "      <td>83.000000</td>\n",
       "      <td>83.000000</td>\n",
       "    </tr>\n",
       "    <tr>\n",
       "      <th>max</th>\n",
       "      <td>94.000000</td>\n",
       "      <td>95.000000</td>\n",
       "      <td>96.000000</td>\n",
       "      <td>89.000000</td>\n",
       "      <td>90.000000</td>\n",
       "    </tr>\n",
       "  </tbody>\n",
       "</table>\n",
       "</div>"
      ],
      "text/plain": [
       "        big_west  small_west  capital_city   big_east  small_east\n",
       "count  43.000000   43.000000     43.000000  43.000000   43.000000\n",
       "mean   85.325581   83.837209     88.232558  79.209302   78.627907\n",
       "std     5.982995    7.006562      6.159921   5.667611    6.302015\n",
       "min    70.000000   70.000000     70.000000  70.000000   63.000000\n",
       "25%    82.000000   78.500000     85.000000  75.000000   75.000000\n",
       "50%    87.000000   84.000000     90.000000  78.000000   80.000000\n",
       "75%    90.000000   89.500000     93.000000  83.000000   83.000000\n",
       "max    94.000000   95.000000     96.000000  89.000000   90.000000"
      ]
     },
     "execution_count": 32,
     "metadata": {},
     "output_type": "execute_result"
    }
   ],
   "source": [
    "final_exam.describe()"
   ]
  },
  {
   "cell_type": "code",
   "execution_count": 33,
   "id": "86c1eb00",
   "metadata": {},
   "outputs": [
    {
     "data": {
      "text/plain": [
       "KruskalResult(statistic=57.244594069662135, pvalue=1.0992920086269013e-11)"
      ]
     },
     "execution_count": 33,
     "metadata": {},
     "output_type": "execute_result"
    }
   ],
   "source": [
    "stats.kruskal(final_exam['big_west'], final_exam['small_west'], final_exam['capital_city'], final_exam['big_east'], final_exam['small_east'])"
   ]
  },
  {
   "cell_type": "code",
   "execution_count": null,
   "id": "22579199",
   "metadata": {},
   "outputs": [],
   "source": []
  }
 ],
 "metadata": {
  "kernelspec": {
   "display_name": "Python 3",
   "language": "python",
   "name": "python3"
  },
  "language_info": {
   "codemirror_mode": {
    "name": "ipython",
    "version": 3
   },
   "file_extension": ".py",
   "mimetype": "text/x-python",
   "name": "python",
   "nbconvert_exporter": "python",
   "pygments_lexer": "ipython3",
   "version": "3.8.8"
  }
 },
 "nbformat": 4,
 "nbformat_minor": 5
}
